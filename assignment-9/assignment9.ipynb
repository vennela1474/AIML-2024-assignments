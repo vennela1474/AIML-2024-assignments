{
  "nbformat": 4,
  "nbformat_minor": 0,
  "metadata": {
    "colab": {
      "provenance": []
    },
    "kernelspec": {
      "name": "python3",
      "display_name": "Python 3"
    },
    "language_info": {
      "name": "python"
    }
  },
  "cells": [
    {
      "cell_type": "code",
      "execution_count": 4,
      "metadata": {
        "colab": {
          "base_uri": "https://localhost:8080/"
        },
        "id": "aKtil31Mdgpt",
        "outputId": "29e46a2d-0a2e-4106-fa27-5c0d68052c52"
      },
      "outputs": [
        {
          "output_type": "stream",
          "name": "stdout",
          "text": [
            "     CUST_ID      BALANCE  BALANCE_FREQUENCY  PURCHASES  ONEOFF_PURCHASES  \\\n",
            "0     C10001    40.900749           0.818182      95.40              0.00   \n",
            "1     C10002  3202.467416           0.909091       0.00              0.00   \n",
            "2     C10003  2495.148862           1.000000     773.17            773.17   \n",
            "3     C10004  1666.670542           0.636364    1499.00           1499.00   \n",
            "4     C10005   817.714335           1.000000      16.00             16.00   \n",
            "...      ...          ...                ...        ...               ...   \n",
            "8945  C19186    28.493517           1.000000     291.12              0.00   \n",
            "8946  C19187    19.183215           1.000000     300.00              0.00   \n",
            "8947  C19188    23.398673           0.833333     144.40              0.00   \n",
            "8948  C19189    13.457564           0.833333       0.00              0.00   \n",
            "8949  C19190   372.708075           0.666667    1093.25           1093.25   \n",
            "\n",
            "      INSTALLMENTS_PURCHASES  CASH_ADVANCE  PURCHASES_FREQUENCY  \\\n",
            "0                      95.40      0.000000             0.166667   \n",
            "1                       0.00   6442.945483             0.000000   \n",
            "2                       0.00      0.000000             1.000000   \n",
            "3                       0.00    205.788017             0.083333   \n",
            "4                       0.00      0.000000             0.083333   \n",
            "...                      ...           ...                  ...   \n",
            "8945                  291.12      0.000000             1.000000   \n",
            "8946                  300.00      0.000000             1.000000   \n",
            "8947                  144.40      0.000000             0.833333   \n",
            "8948                    0.00     36.558778             0.000000   \n",
            "8949                    0.00    127.040008             0.666667   \n",
            "\n",
            "      ONEOFF_PURCHASES_FREQUENCY  PURCHASES_INSTALLMENTS_FREQUENCY  \\\n",
            "0                       0.000000                          0.083333   \n",
            "1                       0.000000                          0.000000   \n",
            "2                       1.000000                          0.000000   \n",
            "3                       0.083333                          0.000000   \n",
            "4                       0.083333                          0.000000   \n",
            "...                          ...                               ...   \n",
            "8945                    0.000000                          0.833333   \n",
            "8946                    0.000000                          0.833333   \n",
            "8947                    0.000000                          0.666667   \n",
            "8948                    0.000000                          0.000000   \n",
            "8949                    0.666667                          0.000000   \n",
            "\n",
            "      CASH_ADVANCE_FREQUENCY  CASH_ADVANCE_TRX  PURCHASES_TRX  CREDIT_LIMIT  \\\n",
            "0                   0.000000                 0              2        1000.0   \n",
            "1                   0.250000                 4              0        7000.0   \n",
            "2                   0.000000                 0             12        7500.0   \n",
            "3                   0.083333                 1              1        7500.0   \n",
            "4                   0.000000                 0              1        1200.0   \n",
            "...                      ...               ...            ...           ...   \n",
            "8945                0.000000                 0              6        1000.0   \n",
            "8946                0.000000                 0              6        1000.0   \n",
            "8947                0.000000                 0              5        1000.0   \n",
            "8948                0.166667                 2              0         500.0   \n",
            "8949                0.333333                 2             23        1200.0   \n",
            "\n",
            "         PAYMENTS  MINIMUM_PAYMENTS  PRC_FULL_PAYMENT  TENURE  \n",
            "0      201.802084        139.509787          0.000000      12  \n",
            "1     4103.032597       1072.340217          0.222222      12  \n",
            "2      622.066742        627.284787          0.000000      12  \n",
            "3        0.000000               NaN          0.000000      12  \n",
            "4      678.334763        244.791237          0.000000      12  \n",
            "...           ...               ...               ...     ...  \n",
            "8945   325.594462         48.886365          0.500000       6  \n",
            "8946   275.861322               NaN          0.000000       6  \n",
            "8947    81.270775         82.418369          0.250000       6  \n",
            "8948    52.549959         55.755628          0.250000       6  \n",
            "8949    63.165404         88.288956          0.000000       6  \n",
            "\n",
            "[8950 rows x 18 columns]\n"
          ]
        }
      ],
      "source": [
        "import pandas as pd\n",
        "data = pd.read_csv('/content/CC GENERAL.csv')\n",
        "print(data)"
      ]
    },
    {
      "cell_type": "code",
      "source": [
        "from sklearn.preprocessing import MinMaxScaler\n",
        "from sklearn.cluster import KMeans\n",
        "data.dropna(inplace=True)\n",
        "X = data.drop(columns=['CUST_ID'])\n",
        "\n",
        "scaler = MinMaxScaler()\n",
        "X_scaled = scaler.fit_transform(X)\n",
        "\n",
        "kmeans = KMeans(n_clusters=3, random_state=42)\n",
        "kmeans.fit(X_scaled)\n",
        "\n",
        "data['Cluster'] = kmeans.labels_"
      ],
      "metadata": {
        "colab": {
          "base_uri": "https://localhost:8080/"
        },
        "id": "w7V8YfyzfTy9",
        "outputId": "231f3f3f-ca3f-4c84-94d3-7798aa535a71"
      },
      "execution_count": 8,
      "outputs": [
        {
          "output_type": "stream",
          "name": "stderr",
          "text": [
            "/usr/local/lib/python3.10/dist-packages/sklearn/cluster/_kmeans.py:870: FutureWarning: The default value of `n_init` will change from 10 to 'auto' in 1.4. Set the value of `n_init` explicitly to suppress the warning\n",
            "  warnings.warn(\n"
          ]
        }
      ]
    },
    {
      "cell_type": "code",
      "source": [
        "# Print the number of customers in each cluster\n",
        "print(data['Cluster'].value_counts())\n",
        "\n",
        "# Print the cluster centers\n",
        "print(kmeans.cluster_centers_)"
      ],
      "metadata": {
        "colab": {
          "base_uri": "https://localhost:8080/"
        },
        "id": "qfskyVypfeD9",
        "outputId": "e5470410-767f-4c86-c518-bc2e3b83651a"
      },
      "execution_count": 6,
      "outputs": [
        {
          "output_type": "stream",
          "name": "stdout",
          "text": [
            "Cluster\n",
            "0    4522\n",
            "1    2715\n",
            "2    1399\n",
            "Name: count, dtype: int64\n",
            "[[0.09287414 0.85072636 0.00616988 0.00584532 0.00286683 0.02945101\n",
            "  0.14680693 0.08503325 0.06065207 0.12734133 0.03704203 0.00777453\n",
            "  0.13712931 0.03022637 0.01115794 0.07116531 0.91316527]\n",
            " [0.06086173 0.92811948 0.02205841 0.0067475  0.03588262 0.01087817\n",
            "  0.87043657 0.1003656  0.81881571 0.0478454  0.0142778  0.05856251\n",
            "  0.13083651 0.02800505 0.01219409 0.24429722 0.91976673]\n",
            " [0.10073889 0.97404876 0.06632799 0.05961917 0.03655754 0.01388922\n",
            "  0.89804132 0.80144027 0.49162203 0.06182669 0.01887527 0.12043718\n",
            "  0.22458559 0.06512179 0.01009644 0.27924918 0.95735049]]\n"
          ]
        }
      ]
    }
  ]
}