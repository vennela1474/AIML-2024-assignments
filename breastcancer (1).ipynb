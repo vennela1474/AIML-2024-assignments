{
  "nbformat": 4,
  "nbformat_minor": 0,
  "metadata": {
    "colab": {
      "provenance": []
    },
    "kernelspec": {
      "name": "python3",
      "display_name": "Python 3"
    },
    "language_info": {
      "name": "python"
    }
  },
  "cells": [
    {
      "cell_type": "code",
      "source": [
        "import pandas as pd\n",
        "from sklearn.linear_model import LinearRegression\n",
        "from sklearn.model_selection import train_test_split\n",
        "from sklearn.metrics import mean_squared_error, r2_score\n",
        "\n",
        "# Read the data from the file path\n",
        "data = pd.read_csv('/content/full_filled_stroke_data (1).csv')\n",
        "\n",
        "# Separate the features and target variable\n",
        "X = data.drop('stroke', axis=1)\n",
        "y = data['stroke']\n",
        "\n",
        "# Preprocess categorical features\n",
        "categorical_features = ['gender', 'ever_married', 'work_type', 'Residence_type', 'smoking_status']\n",
        "X = pd.get_dummies(X, columns=categorical_features)\n",
        "\n",
        "# Split the data into train and test sets\n",
        "X_train, X_test, y_train, y_test = train_test_split(X, y, test_size=0.2, random_state=42)\n",
        "\n",
        "# Create and train the linear regression model\n",
        "linear_regression = LinearRegression()\n",
        "linear_regression.fit(X_train, y_train)\n",
        "\n",
        "# Make predictions on the test set\n",
        "y_pred = linear_regression.predict(X_test)\n",
        "\n",
        "# Calculate mean squared error and R-squared score\n",
        "mse = mean_squared_error(y_test, y_pred)\n",
        "r2 = r2_score(y_test, y_pred)\n",
        "\n",
        "print(f\"Mean Squared Error: {mse}\")\n",
        "print(f\"R-squared Score: {r2}\")"
      ],
      "metadata": {
        "colab": {
          "base_uri": "https://localhost:8080/"
        },
        "id": "YVQpHPZFCXw-",
        "outputId": "64851ec8-7666-4159-c06d-c9b691d27027"
      },
      "execution_count": null,
      "outputs": [
        {
          "output_type": "stream",
          "name": "stdout",
          "text": [
            "Mean Squared Error: 0.10440968958872564\n",
            "R-squared Score: 0.024929510007512312\n"
          ]
        }
      ]
    },
    {
      "cell_type": "code",
      "source": [
        "# Import the required libraries\n",
        "import pandas as pd\n",
        "from sklearn.model_selection import train_test_split\n",
        "from sklearn.neighbors import KNeighborsClassifier\n",
        "from sklearn.metrics import accuracy_score\n",
        "\n",
        "# Load the dataset (replace 'dataset.csv' with the actual file name)\n",
        "dataset = pd.read_csv('/content/breast_cancer_survival.csv')\n",
        "\n",
        "dataset.dropna(inplace=True)\n",
        "\n",
        "# Separate the features and target variable\n",
        "X = dataset.drop('Patient_Status', axis=1)\n",
        "y = dataset['Patient_Status']\n",
        "\n",
        "# Perform one-hot encoding on the categorical features\n",
        "X_encoded = pd.get_dummies(X)\n",
        "\n",
        "# Split the dataset into training and testing sets\n",
        "X_train, X_test, y_train, y_test = train_test_split(X_encoded, y, test_size=0.2, random_state=42)\n",
        "\n",
        "# Train the KNN model\n",
        "k_values = range(2, 21)\n",
        "knn_accuracies = []\n",
        "\n",
        "for k in k_values:\n",
        "  knn_model = KNeighborsClassifier(n_neighbors=k)\n",
        "  knn_model.fit(X_train, y_train)\n",
        "  knn_y_pred = knn_model.predict(X_test)\n",
        "  knn_accuracy = accuracy_score(y_test, knn_y_pred)\n",
        "  knn_accuracies.append(knn_accuracy)\n",
        "\n",
        "# Print the accuracies for different k values\n",
        "for k, accuracy in zip(k_values, knn_accuracies): print(f\"K = {k}: Accuracy = {accuracy}\")\n",
        "\n",
        "# Choose the best k value based on the results\n",
        "\n",
        "# Train the final KNN model with the selected k value\n",
        "best_k = k_values[knn_accuracies.index(max(knn_accuracies))]\n",
        "final_model = KNeighborsClassifier(n_neighbors=best_k)\n",
        "final_model.fit(X_train, y_train)"
      ],
      "metadata": {
        "colab": {
          "base_uri": "https://localhost:8080/",
          "height": 405
        },
        "id": "cIzZBhlVcWgQ",
        "outputId": "4b566466-be9f-401e-fb62-4f74920de9ba"
      },
      "execution_count": null,
      "outputs": [
        {
          "output_type": "stream",
          "name": "stdout",
          "text": [
            "K = 2: Accuracy = 0.765625\n",
            "K = 3: Accuracy = 0.765625\n",
            "K = 4: Accuracy = 0.796875\n",
            "K = 5: Accuracy = 0.8125\n",
            "K = 6: Accuracy = 0.796875\n",
            "K = 7: Accuracy = 0.796875\n",
            "K = 8: Accuracy = 0.796875\n",
            "K = 9: Accuracy = 0.796875\n",
            "K = 10: Accuracy = 0.796875\n",
            "K = 11: Accuracy = 0.78125\n",
            "K = 12: Accuracy = 0.796875\n",
            "K = 13: Accuracy = 0.796875\n",
            "K = 14: Accuracy = 0.796875\n",
            "K = 15: Accuracy = 0.796875\n",
            "K = 16: Accuracy = 0.796875\n",
            "K = 17: Accuracy = 0.796875\n",
            "K = 18: Accuracy = 0.796875\n",
            "K = 19: Accuracy = 0.796875\n",
            "K = 20: Accuracy = 0.796875\n"
          ]
        },
        {
          "output_type": "execute_result",
          "data": {
            "text/plain": [
              "KNeighborsClassifier()"
            ],
            "text/html": [
              "<style>#sk-container-id-1 {color: black;background-color: white;}#sk-container-id-1 pre{padding: 0;}#sk-container-id-1 div.sk-toggleable {background-color: white;}#sk-container-id-1 label.sk-toggleable__label {cursor: pointer;display: block;width: 100%;margin-bottom: 0;padding: 0.3em;box-sizing: border-box;text-align: center;}#sk-container-id-1 label.sk-toggleable__label-arrow:before {content: \"▸\";float: left;margin-right: 0.25em;color: #696969;}#sk-container-id-1 label.sk-toggleable__label-arrow:hover:before {color: black;}#sk-container-id-1 div.sk-estimator:hover label.sk-toggleable__label-arrow:before {color: black;}#sk-container-id-1 div.sk-toggleable__content {max-height: 0;max-width: 0;overflow: hidden;text-align: left;background-color: #f0f8ff;}#sk-container-id-1 div.sk-toggleable__content pre {margin: 0.2em;color: black;border-radius: 0.25em;background-color: #f0f8ff;}#sk-container-id-1 input.sk-toggleable__control:checked~div.sk-toggleable__content {max-height: 200px;max-width: 100%;overflow: auto;}#sk-container-id-1 input.sk-toggleable__control:checked~label.sk-toggleable__label-arrow:before {content: \"▾\";}#sk-container-id-1 div.sk-estimator input.sk-toggleable__control:checked~label.sk-toggleable__label {background-color: #d4ebff;}#sk-container-id-1 div.sk-label input.sk-toggleable__control:checked~label.sk-toggleable__label {background-color: #d4ebff;}#sk-container-id-1 input.sk-hidden--visually {border: 0;clip: rect(1px 1px 1px 1px);clip: rect(1px, 1px, 1px, 1px);height: 1px;margin: -1px;overflow: hidden;padding: 0;position: absolute;width: 1px;}#sk-container-id-1 div.sk-estimator {font-family: monospace;background-color: #f0f8ff;border: 1px dotted black;border-radius: 0.25em;box-sizing: border-box;margin-bottom: 0.5em;}#sk-container-id-1 div.sk-estimator:hover {background-color: #d4ebff;}#sk-container-id-1 div.sk-parallel-item::after {content: \"\";width: 100%;border-bottom: 1px solid gray;flex-grow: 1;}#sk-container-id-1 div.sk-label:hover label.sk-toggleable__label {background-color: #d4ebff;}#sk-container-id-1 div.sk-serial::before {content: \"\";position: absolute;border-left: 1px solid gray;box-sizing: border-box;top: 0;bottom: 0;left: 50%;z-index: 0;}#sk-container-id-1 div.sk-serial {display: flex;flex-direction: column;align-items: center;background-color: white;padding-right: 0.2em;padding-left: 0.2em;position: relative;}#sk-container-id-1 div.sk-item {position: relative;z-index: 1;}#sk-container-id-1 div.sk-parallel {display: flex;align-items: stretch;justify-content: center;background-color: white;position: relative;}#sk-container-id-1 div.sk-item::before, #sk-container-id-1 div.sk-parallel-item::before {content: \"\";position: absolute;border-left: 1px solid gray;box-sizing: border-box;top: 0;bottom: 0;left: 50%;z-index: -1;}#sk-container-id-1 div.sk-parallel-item {display: flex;flex-direction: column;z-index: 1;position: relative;background-color: white;}#sk-container-id-1 div.sk-parallel-item:first-child::after {align-self: flex-end;width: 50%;}#sk-container-id-1 div.sk-parallel-item:last-child::after {align-self: flex-start;width: 50%;}#sk-container-id-1 div.sk-parallel-item:only-child::after {width: 0;}#sk-container-id-1 div.sk-dashed-wrapped {border: 1px dashed gray;margin: 0 0.4em 0.5em 0.4em;box-sizing: border-box;padding-bottom: 0.4em;background-color: white;}#sk-container-id-1 div.sk-label label {font-family: monospace;font-weight: bold;display: inline-block;line-height: 1.2em;}#sk-container-id-1 div.sk-label-container {text-align: center;}#sk-container-id-1 div.sk-container {/* jupyter's `normalize.less` sets `[hidden] { display: none; }` but bootstrap.min.css set `[hidden] { display: none !important; }` so we also need the `!important` here to be able to override the default hidden behavior on the sphinx rendered scikit-learn.org. See: https://github.com/scikit-learn/scikit-learn/issues/21755 */display: inline-block !important;position: relative;}#sk-container-id-1 div.sk-text-repr-fallback {display: none;}</style><div id=\"sk-container-id-1\" class=\"sk-top-container\"><div class=\"sk-text-repr-fallback\"><pre>KNeighborsClassifier()</pre><b>In a Jupyter environment, please rerun this cell to show the HTML representation or trust the notebook. <br />On GitHub, the HTML representation is unable to render, please try loading this page with nbviewer.org.</b></div><div class=\"sk-container\" hidden><div class=\"sk-item\"><div class=\"sk-estimator sk-toggleable\"><input class=\"sk-toggleable__control sk-hidden--visually\" id=\"sk-estimator-id-1\" type=\"checkbox\" checked><label for=\"sk-estimator-id-1\" class=\"sk-toggleable__label sk-toggleable__label-arrow\">KNeighborsClassifier</label><div class=\"sk-toggleable__content\"><pre>KNeighborsClassifier()</pre></div></div></div></div></div>"
            ]
          },
          "metadata": {},
          "execution_count": 16
        }
      ]
    },
    {
      "cell_type": "code",
      "source": [
        "import matplotlib.pyplot as plt\n",
        "\n",
        "k_values = range(2, 21)\n",
        "accuracies = []\n",
        "\n",
        "for k in k_values:\n",
        "    knn_model = KNeighborsClassifier(n_neighbors=k)\n",
        "    knn_model.fit(X_train, y_train)\n",
        "    accuracy = knn_model.score(X_test, y_test)\n",
        "    accuracies.append(accuracy)\n",
        "\n",
        "# Plot the graph\n",
        "plt.plot(k_values, accuracies)\n",
        "plt.xlabel(\"K\")\n",
        "plt.ylabel(\"Accuracy\")\n",
        "plt.title(\"Accuracy for different K values\")\n",
        "plt.show()"
      ],
      "metadata": {
        "colab": {
          "base_uri": "https://localhost:8080/",
          "height": 472
        },
        "id": "HkA_J92ZfNbM",
        "outputId": "91889b44-327d-4d70-d0dd-0941811966e8"
      },
      "execution_count": null,
      "outputs": [
        {
          "output_type": "display_data",
          "data": {
            "text/plain": [
              "<Figure size 640x480 with 1 Axes>"
            ],
            "image/png": "[encoded data removed]"
          },
          "metadata": {}
        }
      ]
    },
    {
      "cell_type": "code",
      "source": [
        "from sklearn.preprocessing import LabelEncoder\n",
        "\n",
        "# Encode the labels\n",
        "label_encoder = LabelEncoder()\n",
        "y_test_encoded = label_encoder.fit_transform(y_test)\n",
        "y_pred_encoded = label_encoder.transform(y_pred)\n",
        "\n",
        "# Calculate the accuracy, precision, recall, and f1-score\n",
        "accuracy = accuracy_score(y_test_encoded, y_pred_encoded)\n",
        "precision = precision_score(y_test_encoded, y_pred_encoded, pos_label=1)\n",
        "recall = recall_score(y_test_encoded, y_pred_encoded, pos_label=1)\n",
        "f1 = f1_score(y_test_encoded, y_pred_encoded)\n",
        "\n",
        "print(\"Accuracy:\", accuracy)\n",
        "print(\"Precision:\", precision)\n",
        "print(\"Recall:\", recall)\n",
        "print(\"F1-score:\", f1)"
      ],
      "metadata": {
        "colab": {
          "base_uri": "https://localhost:8080/"
        },
        "id": "dXIWc8SFfdhA",
        "outputId": "ef97a00e-38df-4112-d518-79a5cccc4994"
      },
      "execution_count": null,
      "outputs": [
        {
          "output_type": "stream",
          "name": "stdout",
          "text": [
            "Accuracy: 0.765625\n",
            "Precision: 0.25\n",
            "Recall: 0.07692307692307693\n",
            "F1-score: 0.11764705882352941\n"
          ]
        }
      ]
    },
    {
      "cell_type": "code",
      "source": [
        "import pandas as pd\n",
        "import numpy as np\n",
        "import matplotlib.pyplot as plt\n",
        "from sklearn.model_selection import train_test_split\n",
        "from sklearn.neighbors import KNeighborsClassifier\n",
        "from sklearn.metrics import accuracy_score\n",
        "from sklearn.preprocessing import OneHotEncoder\n",
        "\n",
        "# Read the data with pandas\n",
        "data = pd.read_csv(\"/content/breast_cancer_survival.csv\")\n",
        "\n",
        "# Drop any rows with missing values\n",
        "data.dropna(inplace=True)\n",
        "\n",
        "# Features are all columns except the target\n",
        "features = data.drop(columns=[data.columns[-1]])\n",
        "\n",
        "# Target variable\n",
        "target = data.columns[-1]\n",
        "\n",
        "# Encode categorical variables\n",
        "features_encoded = pd.get_dummies(features)\n",
        "\n",
        "# Train KNN\n",
        "X = features_encoded.values\n",
        "y = data[target].values\n",
        "\n",
        "# Train-test split\n",
        "X_train, X_test, y_train, y_test = train_test_split(X, y, test_size=0.2, random_state=42)\n",
        "\n",
        "# Find accuracy for different K values[2-20], plot a graph(X-axis=K, Y-axis=accuracy)\n",
        "k_values = range(2, 21)\n",
        "accuracies = []\n",
        "\n",
        "for k in k_values:\n",
        "    knn = KNeighborsClassifier(n_neighbors=k)\n",
        "    knn.fit(X_train, y_train)\n",
        "    y_pred = knn.predict(X_test)\n",
        "    accuracy = accuracy_score(y_test, y_pred)\n",
        "    accuracies.append(accuracy)\n",
        "print(\"Length of k_values:\", len(k_values))\n",
        "print(\"Length of accuracies:\", len(accuracies))\n",
        "print(\"Accuracies:\", accuracies)\n",
        "\n",
        "# Plotting the graph\n",
        "plt.plot(k_values, accuracies, marker='o')\n",
        "plt.title('Accuracy vs K Value')\n",
        "plt.xlabel('K Value')\n",
        "plt.ylabel('Accuracy')\n",
        "plt.xticks(k_values)\n",
        "plt.grid(True)\n",
        "plt.show()"
      ],
      "metadata": {
        "colab": {
          "base_uri": "https://localhost:8080/",
          "height": 544
        },
        "id": "y9Z1c4Aeg2H0",
        "outputId": "dfaac5b6-83d6-4f91-ce2a-ddb99b904645"
      },
      "execution_count": null,
      "outputs": [
        {
          "output_type": "stream",
          "name": "stdout",
          "text": [
            "Length of k_values: 19\n",
            "Length of accuracies: 19\n",
            "Accuracies: [0.765625, 0.765625, 0.796875, 0.8125, 0.796875, 0.796875, 0.796875, 0.796875, 0.796875, 0.78125, 0.796875, 0.796875, 0.796875, 0.796875, 0.796875, 0.796875, 0.796875, 0.796875, 0.796875]\n"
          ]
        },
        {
          "output_type": "display_data",
          "data": {
            "text/plain": [
              "<Figure size 640x480 with 1 Axes>"
            ],
            "image/png": "[encoded data removed]"
          },
          "metadata": {}
        }
      ]
    },
    {
      "cell_type": "code",
      "source": [
        "from sklearn.tree import DecisionTreeClassifier\n",
        "from sklearn.metrics import accuracy_score, precision_score, recall_score, f1_score\n",
        "\n",
        "# Train Decision Tree\n",
        "dt_classifier = DecisionTreeClassifier()\n",
        "dt_classifier.fit(X_train, y_train)\n",
        "\n",
        "# Evaluate Decision Tree\n",
        "y_pred_dt = dt_classifier.predict(X_test)\n",
        "accuracy_dt = accuracy_score(y_test, y_pred_dt)\n",
        "\n",
        "# Determine unique labels in y_test\n",
        "unique_labels = np.unique(y_test)\n",
        "\n",
        "# Choose a valid label as the positive class\n",
        "# Let's choose the first unique label as an example\n",
        "pos_label = unique_labels[0]\n",
        "\n",
        "# Compute precision, recall, and F1-score\n",
        "precision_dt = precision_score(y_test, y_pred_dt, pos_label=pos_label)\n",
        "recall_dt = recall_score(y_test, y_pred_dt, pos_label=pos_label)\n",
        "f1_score_dt = f1_score(y_test, y_pred_dt, pos_label=pos_label)\n",
        "\n",
        "# Compare both models\n",
        "print(\"KNN Accuracy:\", max(accuracies))\n",
        "print(\"Decision Tree Accuracy:\", accuracy_dt)\n",
        "print(\"Decision Tree Precision:\", precision_dt)\n",
        "print(\"Decision Tree Recall:\", recall_dt)\n",
        "print(\"Decision Tree F1-score:\", f1_score_dt)"
      ],
      "metadata": {
        "colab": {
          "base_uri": "https://localhost:8080/"
        },
        "id": "Kx3WhnlxhPJ2",
        "outputId": "d5a92f5e-469e-4b26-8f2d-e73e218d543e"
      },
      "execution_count": null,
      "outputs": [
        {
          "output_type": "stream",
          "name": "stdout",
          "text": [
            "KNN Accuracy: 0.8125\n",
            "Decision Tree Accuracy: 0.765625\n",
            "Decision Tree Precision: 0.7903225806451613\n",
            "Decision Tree Recall: 0.9607843137254902\n",
            "Decision Tree F1-score: 0.8672566371681416\n"
          ]
        }
      ]
    },
    {
      "cell_type": "code",
      "source": [
        "import pandas as pd\n",
        "from io import StringIO\n",
        "from sklearn.model_selection import train_test_split\n",
        "from sklearn.svm import SVC\n",
        "from sklearn.metrics import accuracy_score, precision_score, recall_score, f1_score\n",
        "\n",
        "# Read the data from the provided string\n",
        "data_string = \"\"\"gender,age,hypertension,heart_disease,ever_married,work_type,Residence_type,avg_glucose_level,bmi,smoking_status,stroke\n",
        "Female,61.0,0,0,Yes,Self-employed,Rural,202.21,31.555602417555065,never smoked,1\n",
        "Female,59.0,0,0,Yes,Private,Rural,76.15,30.24293671780551,Unknown,1\n",
        "...\n",
        "Female,80.0,1,0,Yes,Private,Urban,83.75,29.09742107186247,never smoked,0\"\"\"\n",
        "\n",
        "data = pd.read_csv(StringIO(data_string), sep=\",\")"
      ],
      "metadata": {
        "id": "NVJoFHgb_O80"
      },
      "execution_count": null,
      "outputs": []
    },
    {
      "cell_type": "code",
      "source": [
        "import pandas as pd\n",
        "from sklearn.model_selection import train_test_split\n",
        "from sklearn.svm import SVC\n",
        "from sklearn.metrics import accuracy_score, precision_score, recall_score, f1_score\n",
        "from sklearn.preprocessing import OneHotEncoder\n",
        "from sklearn.compose import ColumnTransformer\n",
        "\n",
        "# Read the data from the file path\n",
        "data = pd.read_csv('/content/full_filled_stroke_data (1).csv')\n",
        "\n",
        "# Split the data into features and target\n",
        "X = data.drop('stroke', axis=1)\n",
        "y = data['stroke']\n",
        "\n",
        "# Preprocess categorical features\n",
        "categorical_features = ['gender', 'ever_married', 'work_type', 'Residence_type', 'smoking_status']\n",
        "one_hot_encoder = ColumnTransformer(transformers=[('encoder', OneHotEncoder(), categorical_features)], remainder='passthrough')\n",
        "X = one_hot_encoder.fit_transform(X)\n",
        "\n",
        "# Split the data into train and test sets\n",
        "X_train, X_test, y_train, y_test = train_test_split(X, y, test_size=0.2, random_state=42)\n",
        "\n",
        "# Train the SVM model\n",
        "svm = SVC()\n",
        "svm.fit(X_train, y_train)\n",
        "\n",
        "# Make predictions on the test set\n",
        "y_pred = svm.predict(X_test)\n",
        "\n",
        "# Calculate accuracy\n",
        "accuracy = accuracy_score(y_test, y_pred)\n",
        "print(f\"Accuracy: {accuracy}\")\n",
        "\n",
        "# Calculate precision\n",
        "precision = precision_score(y_test, y_pred, zero_division=0)\n",
        "print(f\"Precision: {precision}\")\n",
        "\n",
        "# Calculate recall\n",
        "recall = recall_score(y_test, y_pred)\n",
        "print(f\"Recall: {recall}\")\n",
        "\n",
        "# Calculate F1-score\n",
        "f1 = f1_score(y_test, y_pred)\n",
        "print(f\"F1-score: {f1}\")"
      ],
      "metadata": {
        "colab": {
          "base_uri": "https://localhost:8080/"
        },
        "id": "JRlMz3nFAEBu",
        "outputId": "310b432e-28eb-4178-caf3-e04b1f88112f"
      },
      "execution_count": 12,
      "outputs": [
        {
          "output_type": "stream",
          "name": "stdout",
          "text": [
            "Accuracy: 0.8780487804878049\n",
            "Precision: 0.0\n",
            "Recall: 0.0\n",
            "F1-score: 0.0\n"
          ]
        }
      ]
    }
  ]
}