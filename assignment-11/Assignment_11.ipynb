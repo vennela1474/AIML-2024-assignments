{
  "nbformat": 4,
  "nbformat_minor": 0,
  "metadata": {
    "colab": {
      "provenance": []
    },
    "kernelspec": {
      "name": "python3",
      "display_name": "Python 3"
    },
    "language_info": {
      "name": "python"
    }
  },
  "cells": [
    {
      "cell_type": "code",
      "execution_count": 1,
      "metadata": {
        "id": "6AL34-SQfU1x"
      },
      "outputs": [],
      "source": [
        "import pandas as pd\n",
        "from sklearn.model_selection import train_test_split\n",
        "from sklearn.ensemble import RandomForestClassifier, AdaBoostClassifier\n",
        "from sklearn.metrics import accuracy_score\n",
        "\n"
      ]
    },
    {
      "cell_type": "code",
      "source": [
        "df = pd.read_csv('/content/breast_cancer_survival.csv')"
      ],
      "metadata": {
        "id": "ApBS3SmBfb2e"
      },
      "execution_count": 2,
      "outputs": []
    },
    {
      "cell_type": "code",
      "source": [
        "print(df)"
      ],
      "metadata": {
        "colab": {
          "base_uri": "https://localhost:8080/"
        },
        "id": "kY_1I_65fjSH",
        "outputId": "7f9ea9fe-65a3-4792-94c8-1472750a3d43"
      },
      "execution_count": 3,
      "outputs": [
        {
          "output_type": "stream",
          "name": "stdout",
          "text": [
            "     Age  Gender  Protein1  Protein2  Protein3  Protein4 Tumour_Stage  \\\n",
            "0     42  FEMALE  0.952560   2.15000  0.007972 -0.048340           II   \n",
            "1     54  FEMALE  0.000000   1.38020 -0.498030 -0.507320           II   \n",
            "2     63  FEMALE -0.523030   1.76400 -0.370190  0.010815           II   \n",
            "3     78  FEMALE -0.876180   0.12943 -0.370380  0.132190            I   \n",
            "4     42  FEMALE  0.226110   1.74910 -0.543970 -0.390210           II   \n",
            "..   ...     ...       ...       ...       ...       ...          ...   \n",
            "329   59  FEMALE  0.024598   1.40050  0.024751  0.280320           II   \n",
            "330   41  FEMALE  0.100120  -0.46547  0.472370 -0.523870            I   \n",
            "331   54  FEMALE  0.753820   1.64250 -0.332850  0.857860           II   \n",
            "332   74  FEMALE  0.972510   1.42680 -0.366570 -0.107820           II   \n",
            "333   66  FEMALE  0.286380   1.39980  0.318830  0.836050           II   \n",
            "\n",
            "                          Histology ER status PR status HER2 status  \\\n",
            "0     Infiltrating Ductal Carcinoma  Positive  Positive    Negative   \n",
            "1     Infiltrating Ductal Carcinoma  Positive  Positive    Negative   \n",
            "2     Infiltrating Ductal Carcinoma  Positive  Positive    Negative   \n",
            "3     Infiltrating Ductal Carcinoma  Positive  Positive    Negative   \n",
            "4     Infiltrating Ductal Carcinoma  Positive  Positive    Positive   \n",
            "..                              ...       ...       ...         ...   \n",
            "329   Infiltrating Ductal Carcinoma  Positive  Positive    Positive   \n",
            "330   Infiltrating Ductal Carcinoma  Positive  Positive    Positive   \n",
            "331   Infiltrating Ductal Carcinoma  Positive  Positive    Negative   \n",
            "332  Infiltrating Lobular Carcinoma  Positive  Positive    Negative   \n",
            "333   Infiltrating Ductal Carcinoma  Positive  Positive    Negative   \n",
            "\n",
            "                    Surgery_type Date_of_Surgery Date_of_Last_Visit  \\\n",
            "0                          Other       20-May-18          26-Aug-18   \n",
            "1                          Other       26-Apr-18          25-Jan-19   \n",
            "2                     Lumpectomy       24-Aug-18          08-Apr-20   \n",
            "3                          Other       16-Nov-18          28-Jul-20   \n",
            "4                     Lumpectomy       12-Dec-18          05-Jan-19   \n",
            "..                           ...             ...                ...   \n",
            "329                   Lumpectomy       15-Jan-19          27-Mar-20   \n",
            "330  Modified Radical Mastectomy       25-Jul-18          23-Apr-19   \n",
            "331            Simple Mastectomy       26-Mar-19          11-Oct-19   \n",
            "332                   Lumpectomy       26-Nov-18          05-Dec-18   \n",
            "333  Modified Radical Mastectomy       04-Feb-19          10-Aug-19   \n",
            "\n",
            "    Patient_Status  \n",
            "0            Alive  \n",
            "1             Dead  \n",
            "2            Alive  \n",
            "3            Alive  \n",
            "4            Alive  \n",
            "..             ...  \n",
            "329          Alive  \n",
            "330          Alive  \n",
            "331           Dead  \n",
            "332          Alive  \n",
            "333           Dead  \n",
            "\n",
            "[334 rows x 15 columns]\n"
          ]
        }
      ]
    },
    {
      "cell_type": "code",
      "source": [
        "print(df.dtypes)\n",
        "print(\"shape\",df.shape)"
      ],
      "metadata": {
        "colab": {
          "base_uri": "https://localhost:8080/"
        },
        "id": "PCabRL-EfoUx",
        "outputId": "0adced6e-6162-40b6-9488-21f9e522a619"
      },
      "execution_count": 4,
      "outputs": [
        {
          "output_type": "stream",
          "name": "stdout",
          "text": [
            "Age                     int64\n",
            "Gender                 object\n",
            "Protein1              float64\n",
            "Protein2              float64\n",
            "Protein3              float64\n",
            "Protein4              float64\n",
            "Tumour_Stage           object\n",
            "Histology              object\n",
            "ER status              object\n",
            "PR status              object\n",
            "HER2 status            object\n",
            "Surgery_type           object\n",
            "Date_of_Surgery        object\n",
            "Date_of_Last_Visit     object\n",
            "Patient_Status         object\n",
            "dtype: object\n",
            "shape (334, 15)\n"
          ]
        }
      ]
    },
    {
      "cell_type": "code",
      "source": [
        "h=df.drop({'Histology','ER status','PR status','Date_of_Surgery','Date_of_Last_Visit','Surgery_type','HER2 status'},axis=1)"
      ],
      "metadata": {
        "id": "oaOObagmftay"
      },
      "execution_count": 5,
      "outputs": []
    },
    {
      "cell_type": "code",
      "source": [
        "print(h.isnull().sum())"
      ],
      "metadata": {
        "colab": {
          "base_uri": "https://localhost:8080/"
        },
        "id": "nUNN775rf5cG",
        "outputId": "37fc66ac-c7a9-4e2d-e118-bfa1321675d6"
      },
      "execution_count": 6,
      "outputs": [
        {
          "output_type": "stream",
          "name": "stdout",
          "text": [
            "Age                0\n",
            "Gender             0\n",
            "Protein1           0\n",
            "Protein2           0\n",
            "Protein3           0\n",
            "Protein4           0\n",
            "Tumour_Stage       0\n",
            "Patient_Status    13\n",
            "dtype: int64\n"
          ]
        }
      ]
    },
    {
      "cell_type": "code",
      "source": [
        "df['Patient_Status'].isnull().sum()/h.shape[0]"
      ],
      "metadata": {
        "colab": {
          "base_uri": "https://localhost:8080/"
        },
        "id": "wvIwyv6uf-su",
        "outputId": "3dab506a-bb5a-450d-fad6-277ff4fb9792"
      },
      "execution_count": 7,
      "outputs": [
        {
          "output_type": "execute_result",
          "data": {
            "text/plain": [
              "0.038922155688622756"
            ]
          },
          "metadata": {},
          "execution_count": 7
        }
      ]
    },
    {
      "cell_type": "code",
      "source": [
        "from sklearn.preprocessing import LabelEncoder\n",
        "from sklearn.impute import SimpleImputer"
      ],
      "metadata": {
        "id": "tIm1hSmOgD7L"
      },
      "execution_count": 8,
      "outputs": []
    },
    {
      "cell_type": "code",
      "source": [
        "encoder = LabelEncoder()\n",
        "h['Gender'] = encoder.fit_transform(h['Gender'])\n"
      ],
      "metadata": {
        "id": "gKG_hfAFgHjH"
      },
      "execution_count": 9,
      "outputs": []
    },
    {
      "cell_type": "code",
      "source": [
        "gender_mapping = {'Female': 1, 'Male': 0}\n",
        "\n",
        "\n",
        "h['Gender'] = h['Gender'].map(gender_mapping).fillna(0).astype(int)\n",
        "\n",
        "\n",
        "tumour_stage_mapping = {'Stage I': 1, 'Stage II': 2, 'Stage III': 3}\n",
        "\n",
        "\n",
        "h['Tumour_Stage'] = h['Tumour_Stage'].map(tumour_stage_mapping).fillna(0).astype(int)\n",
        "Patient_Status_mapping = {'Alive': 1, 'Dead': 0}\n",
        "\n",
        "\n",
        "h['Patient_Status'] = h['Patient_Status'].map(Patient_Status_mapping).fillna(0).astype(int)\n",
        "\n",
        "\n",
        "\n",
        "\n",
        "h.describe()"
      ],
      "metadata": {
        "colab": {
          "base_uri": "https://localhost:8080/",
          "height": 320
        },
        "id": "xO7auG01gJB2",
        "outputId": "5311c066-bcb6-4aaa-aab5-22935704041f"
      },
      "execution_count": 10,
      "outputs": [
        {
          "output_type": "execute_result",
          "data": {
            "text/plain": [
              "              Age  Gender    Protein1    Protein2    Protein3    Protein4  \\\n",
              "count  334.000000   334.0  334.000000  334.000000  334.000000  334.000000   \n",
              "mean    58.886228     0.0   -0.029991    0.946896   -0.090204    0.009819   \n",
              "std     12.961212     0.0    0.563588    0.911637    0.585175    0.629055   \n",
              "min     29.000000     0.0   -2.340900   -0.978730   -1.627400   -2.025500   \n",
              "25%     49.000000     0.0   -0.358888    0.362173   -0.513748   -0.377090   \n",
              "50%     58.000000     0.0    0.006129    0.992805   -0.173180    0.041768   \n",
              "75%     68.000000     0.0    0.343598    1.627900    0.278353    0.425630   \n",
              "max     90.000000     0.0    1.593600    3.402200    2.193400    1.629900   \n",
              "\n",
              "       Tumour_Stage  Patient_Status  \n",
              "count         334.0      334.000000  \n",
              "mean            0.0        0.763473  \n",
              "std             0.0        0.425587  \n",
              "min             0.0        0.000000  \n",
              "25%             0.0        1.000000  \n",
              "50%             0.0        1.000000  \n",
              "75%             0.0        1.000000  \n",
              "max             0.0        1.000000  "
            ],
            "text/html": [
              "\n",
              "  <div id=\"df-b9d8702a-ee0f-4284-9d83-975eb11a632e\" class=\"colab-df-container\">\n",
              "    <div>\n",
              "<style scoped>\n",
              "    .dataframe tbody tr th:only-of-type {\n",
              "        vertical-align: middle;\n",
              "    }\n",
              "\n",
              "    .dataframe tbody tr th {\n",
              "        vertical-align: top;\n",
              "    }\n",
              "\n",
              "    .dataframe thead th {\n",
              "        text-align: right;\n",
              "    }\n",
              "</style>\n",
              "<table border=\"1\" class=\"dataframe\">\n",
              "  <thead>\n",
              "    <tr style=\"text-align: right;\">\n",
              "      <th></th>\n",
              "      <th>Age</th>\n",
              "      <th>Gender</th>\n",
              "      <th>Protein1</th>\n",
              "      <th>Protein2</th>\n",
              "      <th>Protein3</th>\n",
              "      <th>Protein4</th>\n",
              "      <th>Tumour_Stage</th>\n",
              "      <th>Patient_Status</th>\n",
              "    </tr>\n",
              "  </thead>\n",
              "  <tbody>\n",
              "    <tr>\n",
              "      <th>count</th>\n",
              "      <td>334.000000</td>\n",
              "      <td>334.0</td>\n",
              "      <td>334.000000</td>\n",
              "      <td>334.000000</td>\n",
              "      <td>334.000000</td>\n",
              "      <td>334.000000</td>\n",
              "      <td>334.0</td>\n",
              "      <td>334.000000</td>\n",
              "    </tr>\n",
              "    <tr>\n",
              "      <th>mean</th>\n",
              "      <td>58.886228</td>\n",
              "      <td>0.0</td>\n",
              "      <td>-0.029991</td>\n",
              "      <td>0.946896</td>\n",
              "      <td>-0.090204</td>\n",
              "      <td>0.009819</td>\n",
              "      <td>0.0</td>\n",
              "      <td>0.763473</td>\n",
              "    </tr>\n",
              "    <tr>\n",
              "      <th>std</th>\n",
              "      <td>12.961212</td>\n",
              "      <td>0.0</td>\n",
              "      <td>0.563588</td>\n",
              "      <td>0.911637</td>\n",
              "      <td>0.585175</td>\n",
              "      <td>0.629055</td>\n",
              "      <td>0.0</td>\n",
              "      <td>0.425587</td>\n",
              "    </tr>\n",
              "    <tr>\n",
              "      <th>min</th>\n",
              "      <td>29.000000</td>\n",
              "      <td>0.0</td>\n",
              "      <td>-2.340900</td>\n",
              "      <td>-0.978730</td>\n",
              "      <td>-1.627400</td>\n",
              "      <td>-2.025500</td>\n",
              "      <td>0.0</td>\n",
              "      <td>0.000000</td>\n",
              "    </tr>\n",
              "    <tr>\n",
              "      <th>25%</th>\n",
              "      <td>49.000000</td>\n",
              "      <td>0.0</td>\n",
              "      <td>-0.358888</td>\n",
              "      <td>0.362173</td>\n",
              "      <td>-0.513748</td>\n",
              "      <td>-0.377090</td>\n",
              "      <td>0.0</td>\n",
              "      <td>1.000000</td>\n",
              "    </tr>\n",
              "    <tr>\n",
              "      <th>50%</th>\n",
              "      <td>58.000000</td>\n",
              "      <td>0.0</td>\n",
              "      <td>0.006129</td>\n",
              "      <td>0.992805</td>\n",
              "      <td>-0.173180</td>\n",
              "      <td>0.041768</td>\n",
              "      <td>0.0</td>\n",
              "      <td>1.000000</td>\n",
              "    </tr>\n",
              "    <tr>\n",
              "      <th>75%</th>\n",
              "      <td>68.000000</td>\n",
              "      <td>0.0</td>\n",
              "      <td>0.343598</td>\n",
              "      <td>1.627900</td>\n",
              "      <td>0.278353</td>\n",
              "      <td>0.425630</td>\n",
              "      <td>0.0</td>\n",
              "      <td>1.000000</td>\n",
              "    </tr>\n",
              "    <tr>\n",
              "      <th>max</th>\n",
              "      <td>90.000000</td>\n",
              "      <td>0.0</td>\n",
              "      <td>1.593600</td>\n",
              "      <td>3.402200</td>\n",
              "      <td>2.193400</td>\n",
              "      <td>1.629900</td>\n",
              "      <td>0.0</td>\n",
              "      <td>1.000000</td>\n",
              "    </tr>\n",
              "  </tbody>\n",
              "</table>\n",
              "</div>\n",
              "    <div class=\"colab-df-buttons\">\n",
              "\n",
              "  <div class=\"colab-df-container\">\n",
              "    <button class=\"colab-df-convert\" onclick=\"convertToInteractive('df-b9d8702a-ee0f-4284-9d83-975eb11a632e')\"\n",
              "            title=\"Convert this dataframe to an interactive table.\"\n",
              "            style=\"display:none;\">\n",
              "\n",
              "  <svg xmlns=\"http://www.w3.org/2000/svg\" height=\"24px\" viewBox=\"0 -960 960 960\">\n",
              "    <path d=\"M120-120v-720h720v720H120Zm60-500h600v-160H180v160Zm220 220h160v-160H400v160Zm0 220h160v-160H400v160ZM180-400h160v-160H180v160Zm440 0h160v-160H620v160ZM180-180h160v-160H180v160Zm440 0h160v-160H620v160Z\"/>\n",
              "  </svg>\n",
              "    </button>\n",
              "\n",
              "  <style>\n",
              "    .colab-df-container {\n",
              "      display:flex;\n",
              "      gap: 12px;\n",
              "    }\n",
              "\n",
              "    .colab-df-convert {\n",
              "      background-color: #E8F0FE;\n",
              "      border: none;\n",
              "      border-radius: 50%;\n",
              "      cursor: pointer;\n",
              "      display: none;\n",
              "      fill: #1967D2;\n",
              "      height: 32px;\n",
              "      padding: 0 0 0 0;\n",
              "      width: 32px;\n",
              "    }\n",
              "\n",
              "    .colab-df-convert:hover {\n",
              "      background-color: #E2EBFA;\n",
              "      box-shadow: 0px 1px 2px rgba(60, 64, 67, 0.3), 0px 1px 3px 1px rgba(60, 64, 67, 0.15);\n",
              "      fill: #174EA6;\n",
              "    }\n",
              "\n",
              "    .colab-df-buttons div {\n",
              "      margin-bottom: 4px;\n",
              "    }\n",
              "\n",
              "    [theme=dark] .colab-df-convert {\n",
              "      background-color: #3B4455;\n",
              "      fill: #D2E3FC;\n",
              "    }\n",
              "\n",
              "    [theme=dark] .colab-df-convert:hover {\n",
              "      background-color: #434B5C;\n",
              "      box-shadow: 0px 1px 3px 1px rgba(0, 0, 0, 0.15);\n",
              "      filter: drop-shadow(0px 1px 2px rgba(0, 0, 0, 0.3));\n",
              "      fill: #FFFFFF;\n",
              "    }\n",
              "  </style>\n",
              "\n",
              "    <script>\n",
              "      const buttonEl =\n",
              "        document.querySelector('#df-b9d8702a-ee0f-4284-9d83-975eb11a632e button.colab-df-convert');\n",
              "      buttonEl.style.display =\n",
              "        google.colab.kernel.accessAllowed ? 'block' : 'none';\n",
              "\n",
              "      async function convertToInteractive(key) {\n",
              "        const element = document.querySelector('#df-b9d8702a-ee0f-4284-9d83-975eb11a632e');\n",
              "        const dataTable =\n",
              "          await google.colab.kernel.invokeFunction('convertToInteractive',\n",
              "                                                    [key], {});\n",
              "        if (!dataTable) return;\n",
              "\n",
              "        const docLinkHtml = 'Like what you see? Visit the ' +\n",
              "          '<a target=\"_blank\" href=https://colab.research.google.com/notebooks/data_table.ipynb>data table notebook</a>'\n",
              "          + ' to learn more about interactive tables.';\n",
              "        element.innerHTML = '';\n",
              "        dataTable['output_type'] = 'display_data';\n",
              "        await google.colab.output.renderOutput(dataTable, element);\n",
              "        const docLink = document.createElement('div');\n",
              "        docLink.innerHTML = docLinkHtml;\n",
              "        element.appendChild(docLink);\n",
              "      }\n",
              "    </script>\n",
              "  </div>\n",
              "\n",
              "\n",
              "<div id=\"df-0546f0b7-e3db-465e-9a2a-5a1a686e5a82\">\n",
              "  <button class=\"colab-df-quickchart\" onclick=\"quickchart('df-0546f0b7-e3db-465e-9a2a-5a1a686e5a82')\"\n",
              "            title=\"Suggest charts\"\n",
              "            style=\"display:none;\">\n",
              "\n",
              "<svg xmlns=\"http://www.w3.org/2000/svg\" height=\"24px\"viewBox=\"0 0 24 24\"\n",
              "     width=\"24px\">\n",
              "    <g>\n",
              "        <path d=\"M19 3H5c-1.1 0-2 .9-2 2v14c0 1.1.9 2 2 2h14c1.1 0 2-.9 2-2V5c0-1.1-.9-2-2-2zM9 17H7v-7h2v7zm4 0h-2V7h2v10zm4 0h-2v-4h2v4z\"/>\n",
              "    </g>\n",
              "</svg>\n",
              "  </button>\n",
              "\n",
              "<style>\n",
              "  .colab-df-quickchart {\n",
              "      --bg-color: #E8F0FE;\n",
              "      --fill-color: #1967D2;\n",
              "      --hover-bg-color: #E2EBFA;\n",
              "      --hover-fill-color: #174EA6;\n",
              "      --disabled-fill-color: #AAA;\n",
              "      --disabled-bg-color: #DDD;\n",
              "  }\n",
              "\n",
              "  [theme=dark] .colab-df-quickchart {\n",
              "      --bg-color: #3B4455;\n",
              "      --fill-color: #D2E3FC;\n",
              "      --hover-bg-color: #434B5C;\n",
              "      --hover-fill-color: #FFFFFF;\n",
              "      --disabled-bg-color: #3B4455;\n",
              "      --disabled-fill-color: #666;\n",
              "  }\n",
              "\n",
              "  .colab-df-quickchart {\n",
              "    background-color: var(--bg-color);\n",
              "    border: none;\n",
              "    border-radius: 50%;\n",
              "    cursor: pointer;\n",
              "    display: none;\n",
              "    fill: var(--fill-color);\n",
              "    height: 32px;\n",
              "    padding: 0;\n",
              "    width: 32px;\n",
              "  }\n",
              "\n",
              "  .colab-df-quickchart:hover {\n",
              "    background-color: var(--hover-bg-color);\n",
              "    box-shadow: 0 1px 2px rgba(60, 64, 67, 0.3), 0 1px 3px 1px rgba(60, 64, 67, 0.15);\n",
              "    fill: var(--button-hover-fill-color);\n",
              "  }\n",
              "\n",
              "  .colab-df-quickchart-complete:disabled,\n",
              "  .colab-df-quickchart-complete:disabled:hover {\n",
              "    background-color: var(--disabled-bg-color);\n",
              "    fill: var(--disabled-fill-color);\n",
              "    box-shadow: none;\n",
              "  }\n",
              "\n",
              "  .colab-df-spinner {\n",
              "    border: 2px solid var(--fill-color);\n",
              "    border-color: transparent;\n",
              "    border-bottom-color: var(--fill-color);\n",
              "    animation:\n",
              "      spin 1s steps(1) infinite;\n",
              "  }\n",
              "\n",
              "  @keyframes spin {\n",
              "    0% {\n",
              "      border-color: transparent;\n",
              "      border-bottom-color: var(--fill-color);\n",
              "      border-left-color: var(--fill-color);\n",
              "    }\n",
              "    20% {\n",
              "      border-color: transparent;\n",
              "      border-left-color: var(--fill-color);\n",
              "      border-top-color: var(--fill-color);\n",
              "    }\n",
              "    30% {\n",
              "      border-color: transparent;\n",
              "      border-left-color: var(--fill-color);\n",
              "      border-top-color: var(--fill-color);\n",
              "      border-right-color: var(--fill-color);\n",
              "    }\n",
              "    40% {\n",
              "      border-color: transparent;\n",
              "      border-right-color: var(--fill-color);\n",
              "      border-top-color: var(--fill-color);\n",
              "    }\n",
              "    60% {\n",
              "      border-color: transparent;\n",
              "      border-right-color: var(--fill-color);\n",
              "    }\n",
              "    80% {\n",
              "      border-color: transparent;\n",
              "      border-right-color: var(--fill-color);\n",
              "      border-bottom-color: var(--fill-color);\n",
              "    }\n",
              "    90% {\n",
              "      border-color: transparent;\n",
              "      border-bottom-color: var(--fill-color);\n",
              "    }\n",
              "  }\n",
              "</style>\n",
              "\n",
              "  <script>\n",
              "    async function quickchart(key) {\n",
              "      const quickchartButtonEl =\n",
              "        document.querySelector('#' + key + ' button');\n",
              "      quickchartButtonEl.disabled = true;  // To prevent multiple clicks.\n",
              "      quickchartButtonEl.classList.add('colab-df-spinner');\n",
              "      try {\n",
              "        const charts = await google.colab.kernel.invokeFunction(\n",
              "            'suggestCharts', [key], {});\n",
              "      } catch (error) {\n",
              "        console.error('Error during call to suggestCharts:', error);\n",
              "      }\n",
              "      quickchartButtonEl.classList.remove('colab-df-spinner');\n",
              "      quickchartButtonEl.classList.add('colab-df-quickchart-complete');\n",
              "    }\n",
              "    (() => {\n",
              "      let quickchartButtonEl =\n",
              "        document.querySelector('#df-0546f0b7-e3db-465e-9a2a-5a1a686e5a82 button');\n",
              "      quickchartButtonEl.style.display =\n",
              "        google.colab.kernel.accessAllowed ? 'block' : 'none';\n",
              "    })();\n",
              "  </script>\n",
              "</div>\n",
              "\n",
              "    </div>\n",
              "  </div>\n"
            ],
            "application/vnd.google.colaboratory.intrinsic+json": {
              "type": "dataframe",
              "summary": "{\n  \"name\": \"h\",\n  \"rows\": 8,\n  \"fields\": [\n    {\n      \"column\": \"Age\",\n      \"properties\": {\n        \"dtype\": \"number\",\n        \"std\": 102.32879495889455,\n        \"min\": 12.961212248978983,\n        \"max\": 334.0,\n        \"num_unique_values\": 8,\n        \"samples\": [\n          58.88622754491018,\n          58.0,\n          334.0\n        ],\n        \"semantic_type\": \"\",\n        \"description\": \"\"\n      }\n    },\n    {\n      \"column\": \"Gender\",\n      \"properties\": {\n        \"dtype\": \"number\",\n        \"std\": 118.08683245815344,\n        \"min\": 0.0,\n        \"max\": 334.0,\n        \"num_unique_values\": 2,\n        \"samples\": [\n          0.0,\n          334.0\n        ],\n        \"semantic_type\": \"\",\n        \"description\": \"\"\n      }\n    },\n    {\n      \"column\": \"Protein1\",\n      \"properties\": {\n        \"dtype\": \"number\",\n        \"std\": 118.10327667558262,\n        \"min\": -2.3409,\n        \"max\": 334.0,\n        \"num_unique_values\": 8,\n        \"samples\": [\n          -0.029991212155688632,\n          0.00612935\n        ],\n        \"semantic_type\": \"\",\n        \"description\": \"\"\n      }\n    },\n    {\n      \"column\": \"Protein2\",\n      \"properties\": {\n        \"dtype\": \"number\",\n        \"std\": 117.72626398530731,\n        \"min\": -0.97873,\n        \"max\": 334.0,\n        \"num_unique_values\": 8,\n        \"samples\": [\n          0.9468961829341317,\n          0.9928049999999999\n        ],\n        \"semantic_type\": \"\",\n        \"description\": \"\"\n      }\n    },\n    {\n      \"column\": \"Protein3\",\n      \"properties\": {\n        \"dtype\": \"number\",\n        \"std\": 118.05879475586546,\n        \"min\": -1.6274,\n        \"max\": 334.0,\n        \"num_unique_values\": 8,\n        \"samples\": [\n          -0.0902039754491018,\n          -0.17318\n        ],\n        \"semantic_type\": \"\",\n        \"description\": \"\"\n      }\n    },\n    {\n      \"column\": \"Protein4\",\n      \"properties\": {\n        \"dtype\": \"number\",\n        \"std\": 118.07449955844052,\n        \"min\": -2.0255,\n        \"max\": 334.0,\n        \"num_unique_values\": 8,\n        \"samples\": [\n          0.009819366047904197,\n          0.041768\n        ],\n        \"semantic_type\": \"\",\n        \"description\": \"\"\n      }\n    },\n    {\n      \"column\": \"Tumour_Stage\",\n      \"properties\": {\n        \"dtype\": \"number\",\n        \"std\": 118.08683245815344,\n        \"min\": 0.0,\n        \"max\": 334.0,\n        \"num_unique_values\": 2,\n        \"samples\": [\n          0.0,\n          334.0\n        ],\n        \"semantic_type\": \"\",\n        \"description\": \"\"\n      }\n    },\n    {\n      \"column\": \"Patient_Status\",\n      \"properties\": {\n        \"dtype\": \"number\",\n        \"std\": 117.82530149908152,\n        \"min\": 0.0,\n        \"max\": 334.0,\n        \"num_unique_values\": 5,\n        \"samples\": [\n          0.7634730538922155,\n          1.0\n        ],\n        \"semantic_type\": \"\",\n        \"description\": \"\"\n      }\n    }\n  ]\n}"
            }
          },
          "metadata": {},
          "execution_count": 10
        }
      ]
    },
    {
      "cell_type": "code",
      "source": [
        "y=h['Patient_Status']\n",
        "x=h.drop('Patient_Status',axis=1)"
      ],
      "metadata": {
        "id": "inrnMUo6gN_d"
      },
      "execution_count": 11,
      "outputs": []
    },
    {
      "cell_type": "code",
      "source": [
        "x=x.fillna(0)"
      ],
      "metadata": {
        "id": "qqlpQqSQgPeR"
      },
      "execution_count": 12,
      "outputs": []
    },
    {
      "cell_type": "code",
      "source": [
        "print(x)\n",
        "print(y)"
      ],
      "metadata": {
        "colab": {
          "base_uri": "https://localhost:8080/"
        },
        "id": "8_uv3YGsgU6k",
        "outputId": "5adf31f1-f861-4e00-eaf8-cdf4d6f1e822"
      },
      "execution_count": 13,
      "outputs": [
        {
          "output_type": "stream",
          "name": "stdout",
          "text": [
            "     Age  Gender  Protein1  Protein2  Protein3  Protein4  Tumour_Stage\n",
            "0     42       0  0.952560   2.15000  0.007972 -0.048340             0\n",
            "1     54       0  0.000000   1.38020 -0.498030 -0.507320             0\n",
            "2     63       0 -0.523030   1.76400 -0.370190  0.010815             0\n",
            "3     78       0 -0.876180   0.12943 -0.370380  0.132190             0\n",
            "4     42       0  0.226110   1.74910 -0.543970 -0.390210             0\n",
            "..   ...     ...       ...       ...       ...       ...           ...\n",
            "329   59       0  0.024598   1.40050  0.024751  0.280320             0\n",
            "330   41       0  0.100120  -0.46547  0.472370 -0.523870             0\n",
            "331   54       0  0.753820   1.64250 -0.332850  0.857860             0\n",
            "332   74       0  0.972510   1.42680 -0.366570 -0.107820             0\n",
            "333   66       0  0.286380   1.39980  0.318830  0.836050             0\n",
            "\n",
            "[334 rows x 7 columns]\n",
            "0      1\n",
            "1      0\n",
            "2      1\n",
            "3      1\n",
            "4      1\n",
            "      ..\n",
            "329    1\n",
            "330    1\n",
            "331    0\n",
            "332    1\n",
            "333    0\n",
            "Name: Patient_Status, Length: 334, dtype: int64\n"
          ]
        }
      ]
    },
    {
      "cell_type": "code",
      "source": [
        "from sklearn.model_selection import train_test_split"
      ],
      "metadata": {
        "id": "CP4hV_ZugY0n"
      },
      "execution_count": 14,
      "outputs": []
    },
    {
      "cell_type": "code",
      "source": [
        "x_train, x_test, y_train, y_test = train_test_split(x,y, test_size=0.2, random_state=42)"
      ],
      "metadata": {
        "id": "_9OcJVDFgchT"
      },
      "execution_count": 15,
      "outputs": []
    },
    {
      "cell_type": "code",
      "source": [
        "print(x_train.isnull())\n",
        "\n",
        "print(x_train)"
      ],
      "metadata": {
        "colab": {
          "base_uri": "https://localhost:8080/"
        },
        "id": "uUfre_jzge_C",
        "outputId": "7376f489-be53-4f20-ec08-18f9433b1221"
      },
      "execution_count": 16,
      "outputs": [
        {
          "output_type": "stream",
          "name": "stdout",
          "text": [
            "       Age  Gender  Protein1  Protein2  Protein3  Protein4  Tumour_Stage\n",
            "224  False   False     False     False     False     False         False\n",
            "78   False   False     False     False     False     False         False\n",
            "295  False   False     False     False     False     False         False\n",
            "17   False   False     False     False     False     False         False\n",
            "24   False   False     False     False     False     False         False\n",
            "..     ...     ...       ...       ...       ...       ...           ...\n",
            "188  False   False     False     False     False     False         False\n",
            "71   False   False     False     False     False     False         False\n",
            "106  False   False     False     False     False     False         False\n",
            "270  False   False     False     False     False     False         False\n",
            "102  False   False     False     False     False     False         False\n",
            "\n",
            "[267 rows x 7 columns]\n",
            "     Age  Gender  Protein1  Protein2  Protein3  Protein4  Tumour_Stage\n",
            "224   38       0 -0.268450   0.19515 -1.024700  0.101720             0\n",
            "78    77       0 -0.298700  -0.16129  0.460720 -0.396660             0\n",
            "295   47       0 -0.190060   1.97790 -0.007615  0.035325             0\n",
            "17    63       0  0.052728   0.72210 -0.308650 -0.531290             0\n",
            "24    70       0  0.700290   0.97347 -0.296450  0.105510             0\n",
            "..   ...     ...       ...       ...       ...       ...           ...\n",
            "188   44       0 -0.278840   2.16880 -0.462330  0.272200             0\n",
            "71    45       0 -0.711630   1.69240 -0.800760  0.794400             0\n",
            "106   49       0  0.061643   1.31490 -0.099357  0.754410             0\n",
            "270   79       0 -0.482690  -0.31677  0.471580  0.347440             0\n",
            "102   59       0  0.359140   1.18520 -0.423490  0.415940             0\n",
            "\n",
            "[267 rows x 7 columns]\n"
          ]
        }
      ]
    },
    {
      "cell_type": "code",
      "source": [
        "print(x_test)"
      ],
      "metadata": {
        "colab": {
          "base_uri": "https://localhost:8080/"
        },
        "id": "24Mf8IIHgiKs",
        "outputId": "7fb31c58-3977-4604-c09b-3ad1c0f62bf5"
      },
      "execution_count": 17,
      "outputs": [
        {
          "output_type": "stream",
          "name": "stdout",
          "text": [
            "     Age  Gender  Protein1  Protein2  Protein3  Protein4  Tumour_Stage\n",
            "25    76       0  0.043546  -0.40171  0.466850   1.04780             0\n",
            "309   52       0 -0.179320   1.52870 -0.163130   0.83222             0\n",
            "73    66       0 -1.344100   1.12800 -0.229350  -0.22993             0\n",
            "195   76       0 -0.245140   0.61407  0.126510   0.39114             0\n",
            "57    55       0 -0.663420   1.93820 -0.775370  -0.26366             0\n",
            "..   ...     ...       ...       ...       ...       ...           ...\n",
            "280   57       0 -0.213780  -0.62814  1.022600   0.20244             0\n",
            "3     78       0 -0.876180   0.12943 -0.370380   0.13219             0\n",
            "77    59       0  0.276410  -0.87612  1.298000  -0.68664             0\n",
            "311   42       0  0.172950   1.29660 -0.856770  -0.23695             0\n",
            "60    56       0 -0.675420   0.26937 -0.086603   1.07140             0\n",
            "\n",
            "[67 rows x 7 columns]\n"
          ]
        }
      ]
    },
    {
      "cell_type": "code",
      "source": [
        "from sklearn.preprocessing import MinMaxScaler\n",
        "scaler = MinMaxScaler()\n",
        "X_train_scaled = scaler.fit_transform(x_train)\n",
        "X_test_scaled = scaler.transform(x_test)"
      ],
      "metadata": {
        "id": "_N2sFYy5glcw"
      },
      "execution_count": 18,
      "outputs": []
    },
    {
      "cell_type": "code",
      "source": [
        "from sklearn.metrics import accuracy_score, precision_score, recall_score, f1_score\n",
        "from sklearn.ensemble import GradientBoostingClassifier\n",
        "import xgboost as xgb"
      ],
      "metadata": {
        "id": "iFWCcWkygnAO"
      },
      "execution_count": 21,
      "outputs": []
    },
    {
      "cell_type": "code",
      "source": [
        "gboost_model = GradientBoostingClassifier()\n",
        "gboost_model.fit(X_train_scaled, y_train)\n",
        "gboost_pred = gboost_model.predict(X_test_scaled)\n",
        "gboost_accuracy = accuracy_score(y_test, gboost_pred)\n",
        "gboost_precision = precision_score(y_test, gboost_pred)\n",
        "gboost_recall = recall_score(y_test, gboost_pred)\n",
        "gboost_f1 = f1_score(y_test, gboost_pred)\n",
        "\n",
        "print(\"Gradient Boosting Classifier:\")\n",
        "print(\"Accuracy:\", gboost_accuracy)\n",
        "print(\"Precision:\", gboost_precision)\n",
        "print(\"Recall:\", gboost_recall)\n",
        "print(\"F1-score:\",gboost_f1)"
      ],
      "metadata": {
        "colab": {
          "base_uri": "https://localhost:8080/"
        },
        "id": "a2rqAntug-xv",
        "outputId": "5a635226-55cd-4585-8c8a-5a5a73db080e"
      },
      "execution_count": 23,
      "outputs": [
        {
          "output_type": "stream",
          "name": "stdout",
          "text": [
            "Gradient Boosting Classifier:\n",
            "Accuracy: 0.746268656716418\n",
            "Precision: 0.7692307692307693\n",
            "Recall: 0.9615384615384616\n",
            "F1-score: 0.8547008547008548\n"
          ]
        }
      ]
    },
    {
      "cell_type": "code",
      "source": [
        "xgb_model = xgb.XGBClassifier()\n",
        "xgb_model.fit(X_train_scaled, y_train)\n",
        "xgb_pred = xgb_model.predict(X_test_scaled)\n",
        "xgb_accuracy = accuracy_score(y_test, xgb_pred)\n",
        "xgb_precision = precision_score(y_test, xgb_pred)\n",
        "xgb_recall = recall_score(y_test, xgb_pred)\n",
        "xgb_f1 = f1_score(y_test, xgb_pred)\n",
        "\n",
        "print(\"\\nXGBoost Classifier:\")\n",
        "print(\"Accuracy:\", xgb_accuracy)\n",
        "print(\"Precision:\", xgb_precision)\n",
        "print(\"Recall:\", xgb_recall)\n",
        "print(\"F1-score:\",xgb_f1)"
      ],
      "metadata": {
        "colab": {
          "base_uri": "https://localhost:8080/"
        },
        "id": "WMzfVFoChFNK",
        "outputId": "bdb29255-bce8-42a7-ff32-38044485c99c"
      },
      "execution_count": 24,
      "outputs": [
        {
          "output_type": "stream",
          "name": "stdout",
          "text": [
            "\n",
            "XGBoost Classifier:\n",
            "Accuracy: 0.7014925373134329\n",
            "Precision: 0.7580645161290323\n",
            "Recall: 0.9038461538461539\n",
            "F1-score: 0.8245614035087719\n"
          ]
        }
      ]
    }
  ]
}